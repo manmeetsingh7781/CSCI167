{
 "cells": [
  {
   "cell_type": "markdown",
   "metadata": {
    "colab_type": "text",
    "id": "view-in-github"
   },
   "source": [
    "<a href=\"https://colab.research.google.com/github/udlbook/udlbook/blob/main/Notebooks/Chap10/10_2_Convolution_for_MNIST_1D.ipynb\" target=\"_parent\"><img src=\"https://colab.research.google.com/assets/colab-badge.svg\" alt=\"Open In Colab\"/></a>"
   ]
  },
  {
   "cell_type": "markdown",
   "metadata": {
    "id": "t9vk9Elugvmi"
   },
   "source": [
    "# **Notebook 10.2: Convolution for MNIST-1D**\n",
    "\n",
    "This notebook investigates a 1D convolutional network for MNIST-1D as in figure 10.7 and 10.8a.\n",
    "\n",
    "Work through the cells below, running each cell in turn. In various places you will see the words \"TO DO\". Follow the instructions at these places and make predictions about what is going to happen or write code to complete the functions.\n",
    "\n",
    "Contact me at udlbookmail@gmail.com if you find any mistakes or have any suggestions.\n",
    "\n"
   ]
  },
  {
   "cell_type": "code",
   "execution_count": 15,
   "metadata": {
    "id": "D5yLObtZCi9J"
   },
   "outputs": [
    {
     "name": "stdout",
     "output_type": "stream",
     "text": [
      "Collecting git+https://github.com/greydanus/mnist1d\n",
      "  Cloning https://github.com/greydanus/mnist1d to /private/var/folders/1q/r0q5ckx17x14n6sjfl0zt1vw0000gn/T/pip-req-build-mrou7whd\n",
      "  Running command git clone --filter=blob:none --quiet https://github.com/greydanus/mnist1d /private/var/folders/1q/r0q5ckx17x14n6sjfl0zt1vw0000gn/T/pip-req-build-mrou7whd\n",
      "  Resolved https://github.com/greydanus/mnist1d to commit 7878d96082abd200c546a07a4101fa90b30fdf7e\n",
      "  Installing build dependencies ... \u001b[?25ldone\n",
      "\u001b[?25h  Getting requirements to build wheel ... \u001b[?25ldone\n",
      "\u001b[?25h  Preparing metadata (pyproject.toml) ... \u001b[?25ldone\n",
      "\u001b[?25hRequirement already satisfied: requests in ./.venv/lib/python3.12/site-packages (from mnist1d==0.0.2.post16) (2.32.3)\n",
      "Requirement already satisfied: numpy in ./.venv/lib/python3.12/site-packages (from mnist1d==0.0.2.post16) (2.1.0)\n",
      "Requirement already satisfied: matplotlib in ./.venv/lib/python3.12/site-packages (from mnist1d==0.0.2.post16) (3.9.2)\n",
      "Requirement already satisfied: scipy in ./.venv/lib/python3.12/site-packages (from mnist1d==0.0.2.post16) (1.14.1)\n",
      "Requirement already satisfied: contourpy>=1.0.1 in ./.venv/lib/python3.12/site-packages (from matplotlib->mnist1d==0.0.2.post16) (1.3.0)\n",
      "Requirement already satisfied: cycler>=0.10 in ./.venv/lib/python3.12/site-packages (from matplotlib->mnist1d==0.0.2.post16) (0.12.1)\n",
      "Requirement already satisfied: fonttools>=4.22.0 in ./.venv/lib/python3.12/site-packages (from matplotlib->mnist1d==0.0.2.post16) (4.53.1)\n",
      "Requirement already satisfied: kiwisolver>=1.3.1 in ./.venv/lib/python3.12/site-packages (from matplotlib->mnist1d==0.0.2.post16) (1.4.5)\n",
      "Requirement already satisfied: packaging>=20.0 in ./.venv/lib/python3.12/site-packages (from matplotlib->mnist1d==0.0.2.post16) (24.1)\n",
      "Requirement already satisfied: pillow>=8 in ./.venv/lib/python3.12/site-packages (from matplotlib->mnist1d==0.0.2.post16) (10.4.0)\n",
      "Requirement already satisfied: pyparsing>=2.3.1 in ./.venv/lib/python3.12/site-packages (from matplotlib->mnist1d==0.0.2.post16) (3.1.4)\n",
      "Requirement already satisfied: python-dateutil>=2.7 in ./.venv/lib/python3.12/site-packages (from matplotlib->mnist1d==0.0.2.post16) (2.9.0.post0)\n",
      "Requirement already satisfied: charset-normalizer<4,>=2 in ./.venv/lib/python3.12/site-packages (from requests->mnist1d==0.0.2.post16) (3.3.2)\n",
      "Requirement already satisfied: idna<4,>=2.5 in ./.venv/lib/python3.12/site-packages (from requests->mnist1d==0.0.2.post16) (3.10)\n",
      "Requirement already satisfied: urllib3<3,>=1.21.1 in ./.venv/lib/python3.12/site-packages (from requests->mnist1d==0.0.2.post16) (2.2.3)\n",
      "Requirement already satisfied: certifi>=2017.4.17 in ./.venv/lib/python3.12/site-packages (from requests->mnist1d==0.0.2.post16) (2024.8.30)\n",
      "Requirement already satisfied: six>=1.5 in ./.venv/lib/python3.12/site-packages (from python-dateutil>=2.7->matplotlib->mnist1d==0.0.2.post16) (1.16.0)\n",
      "\n",
      "\u001b[1m[\u001b[0m\u001b[34;49mnotice\u001b[0m\u001b[1;39;49m]\u001b[0m\u001b[39;49m A new release of pip is available: \u001b[0m\u001b[31;49m24.2\u001b[0m\u001b[39;49m -> \u001b[0m\u001b[32;49m24.3.1\u001b[0m\n",
      "\u001b[1m[\u001b[0m\u001b[34;49mnotice\u001b[0m\u001b[1;39;49m]\u001b[0m\u001b[39;49m To update, run: \u001b[0m\u001b[32;49mpip install --upgrade pip\u001b[0m\n"
     ]
    }
   ],
   "source": [
    "# Run this if you're in a Colab to install MNIST 1D repository\n",
    "!pip install git+https://github.com/greydanus/mnist1d"
   ]
  },
  {
   "cell_type": "code",
   "execution_count": 16,
   "metadata": {
    "id": "YrXWAH7sUWvU"
   },
   "outputs": [],
   "source": [
    "import numpy as np\n",
    "import os\n",
    "import torch, torch.nn as nn\n",
    "from torch.utils.data import TensorDataset, DataLoader\n",
    "from torch.optim.lr_scheduler import StepLR\n",
    "import matplotlib.pyplot as plt\n",
    "import mnist1d\n",
    "import random"
   ]
  },
  {
   "cell_type": "code",
   "execution_count": 17,
   "metadata": {
    "id": "twI72ZCrCt5z"
   },
   "outputs": [
    {
     "name": "stdout",
     "output_type": "stream",
     "text": [
      "Successfully loaded data from ./mnist1d_data.pkl\n",
      "Examples in training set: 4000\n",
      "Examples in test set: 1000\n",
      "Length of each example: 40\n"
     ]
    }
   ],
   "source": [
    "args = mnist1d.data.get_dataset_args()\n",
    "data = mnist1d.data.get_dataset(args, path='./mnist1d_data.pkl', download=False, regenerate=False)\n",
    "\n",
    "# The training and test input and outputs are in\n",
    "# data['x'], data['y'], data['x_test'], and data['y_test']\n",
    "print(\"Examples in training set: {}\".format(len(data['y'])))\n",
    "print(\"Examples in test set: {}\".format(len(data['y_test'])))\n",
    "print(\"Length of each example: {}\".format(data['x'].shape[-1]))"
   ]
  },
  {
   "cell_type": "code",
   "execution_count": 18,
   "metadata": {
    "id": "8bKADvLHbiV5"
   },
   "outputs": [
    {
     "name": "stdout",
     "output_type": "stream",
     "text": [
      "Train data: 4000 examples (columns), each of which has 40 dimensions (rows)\n",
      "Validation data: 1000 examples (columns), each of which has 40 dimensions (rows)\n"
     ]
    }
   ],
   "source": [
    "# Load in the data\n",
    "train_data_x = data['x'].transpose()\n",
    "train_data_y = data['y']\n",
    "val_data_x = data['x_test'].transpose()\n",
    "val_data_y = data['y_test']\n",
    "# Print out sizes\n",
    "print(\"Train data: %d examples (columns), each of which has %d dimensions (rows)\"%((train_data_x.shape[1],train_data_x.shape[0])))\n",
    "print(\"Validation data: %d examples (columns), each of which has %d dimensions (rows)\"%((val_data_x.shape[1],val_data_x.shape[0])))"
   ]
  },
  {
   "cell_type": "markdown",
   "metadata": {
    "id": "_sFvRDGrl4qe"
   },
   "source": [
    "Define the network"
   ]
  },
  {
   "cell_type": "code",
   "execution_count": 19,
   "metadata": {
    "id": "FslroPJJffrh"
   },
   "outputs": [],
   "source": [
    "# There are 40 input dimensions and 10 output dimensions for this data\n",
    "# The inputs correspond to the 40 offsets in the MNIST1D template.\n",
    "D_i = 40\n",
    "# The outputs correspond to the 10 digits\n",
    "D_o = 10\n",
    "\n",
    "# 1. Convolutional layer, (input=length 40 and 1 channel, kernel size 3, stride 2, padding=\"valid\", 15 output channels )\n",
    "# 2. ReLU\n",
    "# 3. Convolutional layer, (input=length 19 and 15 channels, kernel size 3, stride 2, padding=\"valid\", 15 output channels )\n",
    "# 4. ReLU\n",
    "# 5. Convolutional layer, (input=length 9 and 15 channels, kernel size 3, stride 2, padding=\"valid\", 15 output channels)\n",
    "# 6. ReLU\n",
    "# 7. Flatten (converts 4x15) to length 60\n",
    "# 8. Linear layer (input size = 60, output size = 10)\n",
    "# References:\n",
    "# https://pytorch.org/docs/1.13/generated/torch.nn.Conv1d.html?highlight=conv1d#torch.nn.Conv1d\n",
    "# https://pytorch.org/docs/stable/generated/torch.nn.Flatten.html\n",
    "# https://pytorch.org/docs/1.13/generated/torch.nn.Linear.html?highlight=linear#torch.nn.Linear\n",
    "\n",
    "# NOTE THAT THE CONVOLUTIONAL LAYERS NEED TO TAKE THE NUMBER OF INPUT CHANNELS AS A PARAMETER\n",
    "# AND NOT THE INPUT SIZE.\n",
    "\n",
    "model = nn.Sequential(\n",
    "    nn.Conv1d(in_channels=1,  out_channels=15, kernel_size=3, stride=2, padding=\"valid\"),\n",
    "    nn.ReLU(),\n",
    "    nn.Conv1d(in_channels=15, out_channels=15, kernel_size=3, stride=2, padding=\"valid\"),\n",
    "    nn.ReLU(),\n",
    "    nn.Conv1d(in_channels=15, out_channels=15, kernel_size=3, stride=2, padding=\"valid\"),\n",
    "    nn.ReLU(),\n",
    "    nn.Flatten(),\n",
    "    nn.Linear(in_features=60, out_features=10)\n",
    ")\n",
    "\n",
    "# Replace the following function:\n",
    "# model = nn.Sequential(\n",
    "# nn.Flatten(),\n",
    "# nn.Linear(40, 100),\n",
    "# nn.ReLU(),\n",
    "# nn.Linear(100, 100),\n",
    "# nn.ReLU(),\n",
    "# nn.Linear(100, 10))\n",
    "\n",
    "\n"
   ]
  },
  {
   "cell_type": "code",
   "execution_count": 20,
   "metadata": {
    "id": "YgLaex1pfhqz"
   },
   "outputs": [],
   "source": [
    "# He initialization of weights\n",
    "def weights_init(layer_in):\n",
    "  if isinstance(layer_in, nn.Linear):\n",
    "    nn.init.kaiming_uniform_(layer_in.weight)\n",
    "    layer_in.bias.data.fill_(0.0)"
   ]
  },
  {
   "cell_type": "code",
   "execution_count": 25,
   "metadata": {
    "id": "NYw8I_3mmX5c"
   },
   "outputs": [
    {
     "name": "stdout",
     "output_type": "stream",
     "text": [
      "Epoch     0, train loss 1.883838, train error 73.88,  val loss 1.922013, percent error 76.50\n",
      "Epoch     1, train loss 1.491702, train error 58.08,  val loss 1.519611, percent error 61.20\n",
      "Epoch     2, train loss 1.434784, train error 59.50,  val loss 1.442227, percent error 62.00\n",
      "Epoch     3, train loss 1.322442, train error 54.03,  val loss 1.327384, percent error 54.80\n",
      "Epoch     4, train loss 1.313018, train error 55.03,  val loss 1.344602, percent error 57.60\n",
      "Epoch     5, train loss 1.224029, train error 50.30,  val loss 1.249570, percent error 51.30\n",
      "Epoch     6, train loss 1.034207, train error 42.25,  val loss 1.065035, percent error 43.80\n",
      "Epoch     7, train loss 0.947466, train error 39.35,  val loss 0.978847, percent error 42.00\n",
      "Epoch     8, train loss 0.904873, train error 36.15,  val loss 0.927480, percent error 36.70\n",
      "Epoch     9, train loss 0.808769, train error 33.25,  val loss 0.846453, percent error 35.60\n",
      "Epoch    10, train loss 0.720549, train error 28.97,  val loss 0.780054, percent error 30.40\n",
      "Epoch    11, train loss 0.675780, train error 27.62,  val loss 0.762618, percent error 29.80\n",
      "Epoch    12, train loss 0.561962, train error 21.82,  val loss 0.616720, percent error 23.10\n",
      "Epoch    13, train loss 0.514565, train error 19.55,  val loss 0.606179, percent error 22.20\n",
      "Epoch    14, train loss 0.479594, train error 18.03,  val loss 0.587701, percent error 21.10\n",
      "Epoch    15, train loss 0.422585, train error 15.50,  val loss 0.553906, percent error 19.60\n",
      "Epoch    16, train loss 0.386552, train error 14.05,  val loss 0.504293, percent error 17.20\n",
      "Epoch    17, train loss 0.289564, train error 9.85,  val loss 0.422503, percent error 14.70\n",
      "Epoch    18, train loss 0.281997, train error 10.18,  val loss 0.440630, percent error 15.60\n",
      "Epoch    19, train loss 0.245090, train error 8.80,  val loss 0.385553, percent error 12.90\n",
      "Epoch    20, train loss 0.196926, train error 7.22,  val loss 0.363174, percent error 12.50\n",
      "Epoch    21, train loss 0.165360, train error 5.60,  val loss 0.326220, percent error 11.50\n",
      "Epoch    22, train loss 0.152089, train error 5.10,  val loss 0.321289, percent error 10.80\n",
      "Epoch    23, train loss 0.158852, train error 5.30,  val loss 0.326391, percent error 10.40\n",
      "Epoch    24, train loss 0.135514, train error 4.30,  val loss 0.322893, percent error 11.00\n",
      "Epoch    25, train loss 0.128503, train error 4.30,  val loss 0.343595, percent error 11.80\n",
      "Epoch    26, train loss 0.119053, train error 3.68,  val loss 0.323870, percent error 10.90\n",
      "Epoch    27, train loss 0.113878, train error 3.57,  val loss 0.311698, percent error 11.50\n",
      "Epoch    28, train loss 0.114687, train error 3.95,  val loss 0.347128, percent error 11.40\n",
      "Epoch    29, train loss 0.106935, train error 3.38,  val loss 0.332059, percent error 10.70\n",
      "Epoch    30, train loss 0.100026, train error 3.05,  val loss 0.312674, percent error 10.90\n",
      "Epoch    31, train loss 0.107404, train error 3.88,  val loss 0.340618, percent error 9.90\n",
      "Epoch    32, train loss 0.101093, train error 3.35,  val loss 0.362266, percent error 10.90\n",
      "Epoch    33, train loss 0.090409, train error 3.03,  val loss 0.324952, percent error 10.20\n",
      "Epoch    34, train loss 0.082663, train error 2.50,  val loss 0.333555, percent error 10.30\n",
      "Epoch    35, train loss 0.076991, train error 2.50,  val loss 0.327887, percent error 10.80\n",
      "Epoch    36, train loss 0.075028, train error 2.20,  val loss 0.334018, percent error 10.20\n",
      "Epoch    37, train loss 0.086011, train error 3.18,  val loss 0.369277, percent error 10.40\n",
      "Epoch    38, train loss 0.076907, train error 2.30,  val loss 0.336133, percent error 9.80\n",
      "Epoch    39, train loss 0.064686, train error 2.10,  val loss 0.339862, percent error 10.80\n",
      "Epoch    40, train loss 0.055213, train error 1.38,  val loss 0.322288, percent error 9.50\n",
      "Epoch    41, train loss 0.051997, train error 1.47,  val loss 0.338935, percent error 10.10\n",
      "Epoch    42, train loss 0.046803, train error 1.10,  val loss 0.334468, percent error 10.40\n",
      "Epoch    43, train loss 0.060156, train error 1.90,  val loss 0.350031, percent error 10.60\n",
      "Epoch    44, train loss 0.045408, train error 1.03,  val loss 0.334494, percent error 9.90\n",
      "Epoch    45, train loss 0.045486, train error 1.15,  val loss 0.341543, percent error 9.90\n",
      "Epoch    46, train loss 0.052465, train error 1.50,  val loss 0.369022, percent error 10.20\n",
      "Epoch    47, train loss 0.042825, train error 1.03,  val loss 0.331693, percent error 9.50\n",
      "Epoch    48, train loss 0.042893, train error 0.78,  val loss 0.347209, percent error 10.20\n",
      "Epoch    49, train loss 0.038996, train error 0.80,  val loss 0.341955, percent error 9.80\n",
      "Epoch    50, train loss 0.039791, train error 0.75,  val loss 0.352841, percent error 10.20\n",
      "Epoch    51, train loss 0.038331, train error 0.75,  val loss 0.344406, percent error 10.20\n",
      "Epoch    52, train loss 0.036376, train error 0.65,  val loss 0.353417, percent error 9.50\n",
      "Epoch    53, train loss 0.035663, train error 0.62,  val loss 0.348962, percent error 9.50\n",
      "Epoch    54, train loss 0.032754, train error 0.40,  val loss 0.355989, percent error 9.90\n",
      "Epoch    55, train loss 0.033059, train error 0.53,  val loss 0.353901, percent error 9.80\n",
      "Epoch    56, train loss 0.034854, train error 0.72,  val loss 0.359070, percent error 9.50\n",
      "Epoch    57, train loss 0.036724, train error 0.93,  val loss 0.371288, percent error 10.70\n",
      "Epoch    58, train loss 0.031772, train error 0.62,  val loss 0.360108, percent error 10.80\n",
      "Epoch    59, train loss 0.029503, train error 0.32,  val loss 0.352026, percent error 9.40\n",
      "Epoch    60, train loss 0.027797, train error 0.40,  val loss 0.361010, percent error 9.60\n",
      "Epoch    61, train loss 0.027066, train error 0.40,  val loss 0.361297, percent error 9.50\n",
      "Epoch    62, train loss 0.027018, train error 0.32,  val loss 0.365029, percent error 9.60\n",
      "Epoch    63, train loss 0.026321, train error 0.18,  val loss 0.363789, percent error 9.40\n",
      "Epoch    64, train loss 0.025987, train error 0.30,  val loss 0.367623, percent error 9.60\n",
      "Epoch    65, train loss 0.026273, train error 0.35,  val loss 0.368167, percent error 9.40\n",
      "Epoch    66, train loss 0.026238, train error 0.25,  val loss 0.371951, percent error 9.40\n",
      "Epoch    67, train loss 0.025152, train error 0.22,  val loss 0.369052, percent error 9.30\n",
      "Epoch    68, train loss 0.024051, train error 0.22,  val loss 0.370519, percent error 9.70\n",
      "Epoch    69, train loss 0.024247, train error 0.22,  val loss 0.372580, percent error 9.70\n",
      "Epoch    70, train loss 0.023561, train error 0.25,  val loss 0.374069, percent error 9.60\n",
      "Epoch    71, train loss 0.023608, train error 0.18,  val loss 0.376016, percent error 9.30\n",
      "Epoch    72, train loss 0.022931, train error 0.15,  val loss 0.379438, percent error 9.10\n",
      "Epoch    73, train loss 0.023717, train error 0.18,  val loss 0.378076, percent error 9.50\n",
      "Epoch    74, train loss 0.022444, train error 0.22,  val loss 0.381408, percent error 9.60\n",
      "Epoch    75, train loss 0.022988, train error 0.18,  val loss 0.380003, percent error 9.40\n",
      "Epoch    76, train loss 0.022747, train error 0.28,  val loss 0.384205, percent error 9.90\n",
      "Epoch    77, train loss 0.023375, train error 0.20,  val loss 0.386223, percent error 9.20\n",
      "Epoch    78, train loss 0.021530, train error 0.18,  val loss 0.384170, percent error 9.30\n",
      "Epoch    79, train loss 0.021195, train error 0.15,  val loss 0.382782, percent error 9.10\n",
      "Epoch    80, train loss 0.020784, train error 0.18,  val loss 0.383909, percent error 9.40\n",
      "Epoch    81, train loss 0.020623, train error 0.18,  val loss 0.387721, percent error 9.80\n",
      "Epoch    82, train loss 0.020534, train error 0.15,  val loss 0.387246, percent error 9.50\n",
      "Epoch    83, train loss 0.020382, train error 0.20,  val loss 0.388974, percent error 9.60\n",
      "Epoch    84, train loss 0.020444, train error 0.15,  val loss 0.390210, percent error 9.90\n",
      "Epoch    85, train loss 0.020022, train error 0.15,  val loss 0.388212, percent error 9.60\n",
      "Epoch    86, train loss 0.020053, train error 0.18,  val loss 0.389387, percent error 9.70\n",
      "Epoch    87, train loss 0.019899, train error 0.18,  val loss 0.388624, percent error 9.40\n",
      "Epoch    88, train loss 0.020093, train error 0.15,  val loss 0.390405, percent error 9.30\n",
      "Epoch    89, train loss 0.019889, train error 0.18,  val loss 0.392993, percent error 9.50\n",
      "Epoch    90, train loss 0.019541, train error 0.15,  val loss 0.390572, percent error 9.70\n",
      "Epoch    91, train loss 0.019462, train error 0.15,  val loss 0.392488, percent error 9.70\n",
      "Epoch    92, train loss 0.019240, train error 0.15,  val loss 0.392419, percent error 9.60\n",
      "Epoch    93, train loss 0.019574, train error 0.15,  val loss 0.395620, percent error 9.80\n",
      "Epoch    94, train loss 0.019117, train error 0.18,  val loss 0.392622, percent error 9.60\n",
      "Epoch    95, train loss 0.018932, train error 0.15,  val loss 0.394084, percent error 9.50\n",
      "Epoch    96, train loss 0.018865, train error 0.12,  val loss 0.393991, percent error 9.50\n",
      "Epoch    97, train loss 0.018783, train error 0.15,  val loss 0.395469, percent error 9.60\n",
      "Epoch    98, train loss 0.018719, train error 0.15,  val loss 0.396368, percent error 9.80\n",
      "Epoch    99, train loss 0.018631, train error 0.18,  val loss 0.396003, percent error 9.70\n"
     ]
    },
    {
     "data": {
      "image/png": "[encoded data removed]",
      "text/plain": [
       "<Figure size 640x480 with 1 Axes>"
      ]
     },
     "metadata": {},
     "output_type": "display_data"
    }
   ],
   "source": [
    "# choose cross entropy loss function (equation 5.24 in the loss notes)\n",
    "loss_function = nn.CrossEntropyLoss()\n",
    "# construct SGD optimizer and initialize learning rate and momentum\n",
    "optimizer = torch.optim.SGD(model.parameters(), lr = 0.05, momentum=0.9)\n",
    "# object that decreases learning rate by half every 20 epochs\n",
    "scheduler = StepLR(optimizer, step_size=20, gamma=0.5)\n",
    "# create 100 dummy data points and store in data loader class\n",
    "x_train = torch.tensor(train_data_x.transpose().astype('float32'), dtype=torch.float32)\n",
    "y_train = torch.tensor(train_data_y.astype('long'), dtype=torch.float32).long()\n",
    "x_val= torch.tensor(val_data_x.transpose().astype('float32'), dtype=torch.float32)\n",
    "y_val = torch.tensor(val_data_y.astype('long'), dtype=torch.float32).long()\n",
    "\n",
    "# load the data into a class that creates the batches\n",
    "data_loader = DataLoader(TensorDataset(x_train,y_train), batch_size=100, shuffle=True, worker_init_fn=np.random.seed(1))\n",
    "\n",
    "# Initialize model weights\n",
    "model.apply(weights_init)\n",
    "\n",
    "# loop over the dataset n_epoch times\n",
    "n_epoch = 100\n",
    "# store the loss and the % correct at each epoch\n",
    "losses_train = np.zeros((n_epoch))\n",
    "errors_train = np.zeros((n_epoch))\n",
    "losses_val = np.zeros((n_epoch))\n",
    "errors_val = np.zeros((n_epoch))\n",
    "\n",
    "for epoch in range(n_epoch):\n",
    "  # loop over batches\n",
    "  for i, data in enumerate(data_loader):\n",
    "    # retrieve inputs and labels for this batch\n",
    "    x_batch, y_batch = data\n",
    "    # zero the parameter gradients\n",
    "    optimizer.zero_grad()\n",
    "    # forward pass -- calculate model output\n",
    "    pred = model(x_batch[:,None,:])\n",
    "    # compute the loss\n",
    "    loss = loss_function(pred, y_batch)\n",
    "    # backward pass\n",
    "    loss.backward()\n",
    "    # SGD update\n",
    "    optimizer.step()\n",
    "\n",
    "  # Run whole dataset to get statistics -- normally wouldn't do this\n",
    "  pred_train = model(x_train[:,None,:])\n",
    "  pred_val = model(x_val[:,None,:])\n",
    "  _, predicted_train_class = torch.max(pred_train.data, 1)\n",
    "  _, predicted_val_class = torch.max(pred_val.data, 1)\n",
    "  errors_train[epoch] = 100 - 100 * (predicted_train_class == y_train).float().sum() / len(y_train)\n",
    "  errors_val[epoch]= 100 - 100 * (predicted_val_class == y_val).float().sum() / len(y_val)\n",
    "  losses_train[epoch] = loss_function(pred_train, y_train).item()\n",
    "  losses_val[epoch]= loss_function(pred_val, y_val).item()\n",
    "  print(f'Epoch {epoch:5d}, train loss {losses_train[epoch]:.6f}, train error {errors_train[epoch]:3.2f},  val loss {losses_val[epoch]:.6f}, percent error {errors_val[epoch]:3.2f}')\n",
    "\n",
    "  # tell scheduler to consider updating learning rate\n",
    "  scheduler.step()\n",
    "\n",
    "# Plot the results\n",
    "fig, ax = plt.subplots()\n",
    "ax.plot(errors_train,'r-',label='train')\n",
    "ax.plot(errors_val,'b-',label='validation')\n",
    "ax.set_ylim(0,100); ax.set_xlim(0,n_epoch)\n",
    "ax.set_xlabel('Epoch'); ax.set_ylabel('Error')\n",
    "ax.set_title('Part I: Validation Result %3.2f'%(errors_val[-1]))\n",
    "ax.legend()\n",
    "plt.show()"
   ]
  }
 ],
 "metadata": {
  "colab": {
   "authorship_tag": "ABX9TyNb46PJB/CC1pcHGfjpUUZg",
   "include_colab_link": true,
   "provenance": []
  },
  "kernelspec": {
   "display_name": ".venv",
   "language": "python",
   "name": "python3"
  },
  "language_info": {
   "codemirror_mode": {
    "name": "ipython",
    "version": 3
   },
   "file_extension": ".py",
   "mimetype": "text/x-python",
   "name": "python",
   "nbconvert_exporter": "python",
   "pygments_lexer": "ipython3",
   "version": "3.12.3"
  }
 },
 "nbformat": 4,
 "nbformat_minor": 0
}
