{
 "cells": [
  {
   "cell_type": "markdown",
   "metadata": {
    "colab_type": "text",
    "id": "view-in-github"
   },
   "source": [
    "<a href=\"https://colab.research.google.com/github/udlbook/udlbook/blob/main/Notebooks/Chap10/10_4_Downsampling_and_Upsampling.ipynb\" target=\"_parent\"><img src=\"https://colab.research.google.com/assets/colab-badge.svg\" alt=\"Open In Colab\"/></a>"
   ]
  },
  {
   "cell_type": "markdown",
   "metadata": {
    "id": "t9vk9Elugvmi"
   },
   "source": [
    "# **Notebook 10.4: Downsampling and Upsampling**\n",
    "\n",
    "This notebook investigates the down sampling and downsampling methods discussed in section 10.4 of the book.\n",
    "\n",
    "Work through the cells below, running each cell in turn. In various places you will see the words \"TO DO\". Follow the instructions at these places and make predictions about what is going to happen or write code to complete the functions.\n",
    "\n",
    "Contact me at udlbookmail@gmail.com if you find any mistakes or have any suggestions.\n"
   ]
  },
  {
   "cell_type": "code",
   "execution_count": 4,
   "metadata": {
    "id": "YrXWAH7sUWvU"
   },
   "outputs": [],
   "source": [
    "import numpy as np\n",
    "import matplotlib.pyplot as plt\n",
    "from PIL import Image\n",
    "from numpy import asarray"
   ]
  },
  {
   "cell_type": "code",
   "execution_count": 5,
   "metadata": {
    "id": "WPRoJcC_JXE2"
   },
   "outputs": [
    {
     "name": "stdout",
     "output_type": "stream",
     "text": [
      "[[1 3 5 3]\n",
      " [6 2 0 8]\n",
      " [4 6 1 4]\n",
      " [2 8 0 3]]\n"
     ]
    }
   ],
   "source": [
    "# Define 4 by 4 original patch\n",
    "orig_4_4 = np.array([[1, 3, 5,3 ], [6,2,0,8], [4,6,1,4], [2,8,0,3]])\n",
    "print(orig_4_4)"
   ]
  },
  {
   "cell_type": "code",
   "execution_count": 6,
   "metadata": {
    "id": "qneyOiZRJubi"
   },
   "outputs": [],
   "source": [
    "def subsample(x_in):\n",
    "  x_out = np.zeros(( int(np.ceil(x_in.shape[0]/2)), int(np.ceil(x_in.shape[1]/2)) ))\n",
    "  # TO DO -- write the subsampling routine\n",
    "  # Replace this line\n",
    "  x_out = x_in[::2, ::2]\n",
    "\n",
    "\n",
    "  return x_out"
   ]
  },
  {
   "cell_type": "code",
   "execution_count": 7,
   "metadata": {
    "id": "O_i0y72_JwGZ"
   },
   "outputs": [
    {
     "name": "stdout",
     "output_type": "stream",
     "text": [
      "Original:\n",
      "[[1 3 5 3]\n",
      " [6 2 0 8]\n",
      " [4 6 1 4]\n",
      " [2 8 0 3]]\n",
      "Subsampled:\n",
      "[[1 5]\n",
      " [4 1]]\n"
     ]
    }
   ],
   "source": [
    "print(\"Original:\")\n",
    "print(orig_4_4)\n",
    "print(\"Subsampled:\")\n",
    "print(subsample(orig_4_4))"
   ]
  },
  {
   "cell_type": "markdown",
   "metadata": {
    "id": "AobyC8IILbCO"
   },
   "source": [
    "Let's try that on an image to get a feel for how it works:"
   ]
  },
  {
   "cell_type": "code",
   "execution_count": 8,
   "metadata": {
    "id": "3dJEo-6DM-Py"
   },
   "outputs": [
    {
     "name": "stdout",
     "output_type": "stream",
     "text": [
      "zsh:1: command not found: wget\n"
     ]
    }
   ],
   "source": [
    "!wget https://raw.githubusercontent.com/udlbook/udlbook/main/Notebooks/Chap10/test_image.png"
   ]
  },
  {
   "cell_type": "code",
   "execution_count": 9,
   "metadata": {
    "id": "HCZVutk6NB6B"
   },
   "outputs": [
    {
     "ename": "FileNotFoundError",
     "evalue": "[Errno 2] No such file or directory: '/Users/manmeetsingh/Desktop/CSCI 167/test_image.png'",
     "output_type": "error",
     "traceback": [
      "\u001b[0;31m---------------------------------------------------------------------------\u001b[0m",
      "\u001b[0;31mFileNotFoundError\u001b[0m                         Traceback (most recent call last)",
      "Cell \u001b[0;32mIn[9], line 2\u001b[0m\n\u001b[1;32m      1\u001b[0m \u001b[38;5;66;03m# load the image\u001b[39;00m\n\u001b[0;32m----> 2\u001b[0m image \u001b[38;5;241m=\u001b[39m \u001b[43mImage\u001b[49m\u001b[38;5;241;43m.\u001b[39;49m\u001b[43mopen\u001b[49m\u001b[43m(\u001b[49m\u001b[38;5;124;43m'\u001b[39;49m\u001b[38;5;124;43mtest_image.png\u001b[39;49m\u001b[38;5;124;43m'\u001b[39;49m\u001b[43m)\u001b[49m\n\u001b[1;32m      3\u001b[0m \u001b[38;5;66;03m# convert image to numpy array\u001b[39;00m\n\u001b[1;32m      4\u001b[0m data \u001b[38;5;241m=\u001b[39m asarray(image)\n",
      "File \u001b[0;32m~/Desktop/CSCI 167/.venv/lib/python3.12/site-packages/PIL/Image.py:3431\u001b[0m, in \u001b[0;36mopen\u001b[0;34m(fp, mode, formats)\u001b[0m\n\u001b[1;32m   3428\u001b[0m     filename \u001b[38;5;241m=\u001b[39m os\u001b[38;5;241m.\u001b[39mpath\u001b[38;5;241m.\u001b[39mrealpath(os\u001b[38;5;241m.\u001b[39mfspath(fp))\n\u001b[1;32m   3430\u001b[0m \u001b[38;5;28;01mif\u001b[39;00m filename:\n\u001b[0;32m-> 3431\u001b[0m     fp \u001b[38;5;241m=\u001b[39m \u001b[43mbuiltins\u001b[49m\u001b[38;5;241;43m.\u001b[39;49m\u001b[43mopen\u001b[49m\u001b[43m(\u001b[49m\u001b[43mfilename\u001b[49m\u001b[43m,\u001b[49m\u001b[43m \u001b[49m\u001b[38;5;124;43m\"\u001b[39;49m\u001b[38;5;124;43mrb\u001b[39;49m\u001b[38;5;124;43m\"\u001b[39;49m\u001b[43m)\u001b[49m\n\u001b[1;32m   3432\u001b[0m     exclusive_fp \u001b[38;5;241m=\u001b[39m \u001b[38;5;28;01mTrue\u001b[39;00m\n\u001b[1;32m   3433\u001b[0m \u001b[38;5;28;01melse\u001b[39;00m:\n",
      "\u001b[0;31mFileNotFoundError\u001b[0m: [Errno 2] No such file or directory: '/Users/manmeetsingh/Desktop/CSCI 167/test_image.png'"
     ]
    }
   ],
   "source": [
    "# load the image\n",
    "image = Image.open('test_image.png')\n",
    "# convert image to numpy array\n",
    "data = asarray(image)\n",
    "data_subsample = subsample(data);\n",
    "\n",
    "plt.figure(figsize=(5,5))\n",
    "plt.imshow(data, cmap='gray')\n",
    "plt.show()\n",
    "\n",
    "plt.figure(figsize=(5,5))\n",
    "plt.imshow(data_subsample, cmap='gray')\n",
    "plt.show()\n",
    "\n",
    "data_subsample2 = subsample(data_subsample)\n",
    "plt.figure(figsize=(5,5))\n",
    "plt.imshow(data_subsample2, cmap='gray')\n",
    "plt.show()\n",
    "\n",
    "data_subsample3 = subsample(data_subsample2)\n",
    "plt.figure(figsize=(5,5))\n",
    "plt.imshow(data_subsample3, cmap='gray')\n",
    "plt.show()"
   ]
  },
  {
   "cell_type": "code",
   "execution_count": null,
   "metadata": {
    "id": "Z99uYehaPtJa"
   },
   "outputs": [],
   "source": [
    "# Now let's try max-pooling\n",
    "def maxpool(x_in):\n",
    "  x_out = np.zeros(( int(np.floor(x_in.shape[0]/2)), int(np.floor(x_in.shape[1]/2)) ))\n",
    "  # TO DO -- write the maxpool routine\n",
    "  # Replace this line\n",
    "  for i in range(x_out.shape[0]):\n",
    "    for j in range(x_out.shape[1]):\n",
    "      x_out[i, j] = np.max(x_in[2*i:2*i+2, 2*j:2*j+2])\n",
    "    \n",
    "  return x_out"
   ]
  },
  {
   "cell_type": "code",
   "execution_count": 17,
   "metadata": {
    "id": "J4KMTMmG9P44"
   },
   "outputs": [
    {
     "name": "stdout",
     "output_type": "stream",
     "text": [
      "Original:\n",
      "[[1 3 5 3]\n",
      " [6 2 0 8]\n",
      " [4 6 1 4]\n",
      " [2 8 0 3]]\n",
      "Maxpooled:\n",
      "[[6. 8.]\n",
      " [8. 4.]]\n"
     ]
    }
   ],
   "source": [
    "print(\"Original:\")\n",
    "print(orig_4_4)\n",
    "print(\"Maxpooled:\")\n",
    "print(maxpool(orig_4_4))"
   ]
  },
  {
   "cell_type": "code",
   "execution_count": null,
   "metadata": {
    "id": "0ES0sB8t9Wyv"
   },
   "outputs": [],
   "source": [
    "# Let's see what Rick looks like:\n",
    "data_maxpool = maxpool(data);\n",
    "\n",
    "plt.figure(figsize=(5,5))\n",
    "plt.imshow(data, cmap='gray')\n",
    "plt.show()\n",
    "\n",
    "plt.figure(figsize=(5,5))\n",
    "plt.imshow(data_maxpool, cmap='gray')\n",
    "plt.show()\n",
    "\n",
    "data_maxpool2 = maxpool(data_maxpool)\n",
    "plt.figure(figsize=(5,5))\n",
    "plt.imshow(data_maxpool2, cmap='gray')\n",
    "plt.show()\n",
    "\n",
    "data_maxpool3 = maxpool(data_maxpool2)\n",
    "plt.figure(figsize=(5,5))\n",
    "plt.imshow(data_maxpool3, cmap='gray')\n",
    "plt.show()"
   ]
  },
  {
   "cell_type": "markdown",
   "metadata": {
    "id": "nMtSdBGlAktq"
   },
   "source": [
    "You can see that the stripes on his shirt gradually turn to white because we keep retaining the brightest local pixels."
   ]
  },
  {
   "cell_type": "code",
   "execution_count": 18,
   "metadata": {
    "id": "ZQBjBtmB_aGQ"
   },
   "outputs": [],
   "source": [
    "# Finally, let's try mean pooling\n",
    "def meanpool(x_in):\n",
    "  x_out = np.zeros(( int(np.floor(x_in.shape[0]/2)), int(np.floor(x_in.shape[1]/2)) ))\n",
    "  # TO DO -- write the meanpool routine\n",
    "  # Replace this line\n",
    "  for i in range(x_out.shape[0]):\n",
    "    for j in range(x_out.shape[1]):\n",
    "      x_out[i, j] = x_in[2*i:2*i+2, 2*j:2*j+2].mean()\n",
    "\n",
    "  return x_out"
   ]
  },
  {
   "cell_type": "code",
   "execution_count": 19,
   "metadata": {
    "id": "N4VDlWNt_8dp"
   },
   "outputs": [
    {
     "name": "stdout",
     "output_type": "stream",
     "text": [
      "Original:\n",
      "[[1 3 5 3]\n",
      " [6 2 0 8]\n",
      " [4 6 1 4]\n",
      " [2 8 0 3]]\n",
      "Meanpooled:\n",
      "[[3. 4.]\n",
      " [5. 2.]]\n"
     ]
    }
   ],
   "source": [
    "print(\"Original:\")\n",
    "print(orig_4_4)\n",
    "print(\"Meanpooled:\")\n",
    "print(meanpool(orig_4_4))"
   ]
  },
  {
   "cell_type": "code",
   "execution_count": 20,
   "metadata": {
    "id": "Lkg5zUYo_-IV"
   },
   "outputs": [
    {
     "ename": "NameError",
     "evalue": "name 'data' is not defined",
     "output_type": "error",
     "traceback": [
      "\u001b[0;31m---------------------------------------------------------------------------\u001b[0m",
      "\u001b[0;31mNameError\u001b[0m                                 Traceback (most recent call last)",
      "Cell \u001b[0;32mIn[20], line 2\u001b[0m\n\u001b[1;32m      1\u001b[0m \u001b[38;5;66;03m# Let's see what Rick looks like:\u001b[39;00m\n\u001b[0;32m----> 2\u001b[0m data_meanpool \u001b[38;5;241m=\u001b[39m meanpool(\u001b[43mdata\u001b[49m);\n\u001b[1;32m      4\u001b[0m plt\u001b[38;5;241m.\u001b[39mfigure(figsize\u001b[38;5;241m=\u001b[39m(\u001b[38;5;241m5\u001b[39m,\u001b[38;5;241m5\u001b[39m))\n\u001b[1;32m      5\u001b[0m plt\u001b[38;5;241m.\u001b[39mimshow(data, cmap\u001b[38;5;241m=\u001b[39m\u001b[38;5;124m'\u001b[39m\u001b[38;5;124mgray\u001b[39m\u001b[38;5;124m'\u001b[39m)\n",
      "\u001b[0;31mNameError\u001b[0m: name 'data' is not defined"
     ]
    }
   ],
   "source": [
    "# Let's see what Rick looks like:\n",
    "data_meanpool = meanpool(data);\n",
    "\n",
    "plt.figure(figsize=(5,5))\n",
    "plt.imshow(data, cmap='gray')\n",
    "plt.show()\n",
    "\n",
    "plt.figure(figsize=(5,5))\n",
    "plt.imshow(data_meanpool, cmap='gray')\n",
    "plt.show()\n",
    "\n",
    "data_meanpool2 = meanpool(data_maxpool)\n",
    "plt.figure(figsize=(5,5))\n",
    "plt.imshow(data_meanpool2, cmap='gray')\n",
    "plt.show()\n",
    "\n",
    "data_meanpool3 = meanpool(data_meanpool2)\n",
    "plt.figure(figsize=(5,5))\n",
    "plt.imshow(data_meanpool3, cmap='gray')\n",
    "plt.show()"
   ]
  },
  {
   "cell_type": "markdown",
   "metadata": {
    "id": "J7VssF4pBf2y"
   },
   "source": [
    "Notice that the three low resolution images look quite different. <br>\n",
    "\n",
    "Now let's upscale them again"
   ]
  },
  {
   "cell_type": "code",
   "execution_count": 21,
   "metadata": {
    "id": "Q4N7i76FA_YH"
   },
   "outputs": [
    {
     "name": "stdout",
     "output_type": "stream",
     "text": [
      "[[6 8]\n",
      " [8 4]]\n"
     ]
    }
   ],
   "source": [
    "# Define 2 by 2 original patch\n",
    "orig_2_2 = np.array([[6, 8], [8,4]])\n",
    "print(orig_2_2)"
   ]
  },
  {
   "cell_type": "code",
   "execution_count": 22,
   "metadata": {
    "id": "6eSjnl3cB5g4"
   },
   "outputs": [],
   "source": [
    "# Let's first use the duplication method\n",
    "def duplicate(x_in):\n",
    "  x_out = np.zeros(( x_in.shape[0]*2, x_in.shape[1]*2 ))\n",
    "  # TO DO -- write the duplication routine\n",
    "  # Replace this line\n",
    "  x_out = x_in.repeat(2, axis=0).repeat(2, axis=1)\n",
    "\n",
    "  return x_out"
   ]
  },
  {
   "cell_type": "code",
   "execution_count": 23,
   "metadata": {
    "id": "4FtRcvXrFLg7"
   },
   "outputs": [
    {
     "name": "stdout",
     "output_type": "stream",
     "text": [
      "Original:\n",
      "[[6 8]\n",
      " [8 4]]\n",
      "Duplicated:\n",
      "[[6 6 8 8]\n",
      " [6 6 8 8]\n",
      " [8 8 4 4]\n",
      " [8 8 4 4]]\n"
     ]
    }
   ],
   "source": [
    "print(\"Original:\")\n",
    "print(orig_2_2)\n",
    "print(\"Duplicated:\")\n",
    "print(duplicate(orig_2_2))"
   ]
  },
  {
   "cell_type": "code",
   "execution_count": null,
   "metadata": {
    "id": "agq0YN34FQfA"
   },
   "outputs": [],
   "source": [
    "# Let's re-upsample, sub-sampled rick\n",
    "data_duplicate = duplicate(data_subsample3);\n",
    "\n",
    "plt.figure(figsize=(5,5))\n",
    "plt.imshow(data_subsample3, cmap='gray')\n",
    "plt.show()\n",
    "\n",
    "plt.figure(figsize=(5,5))\n",
    "plt.imshow(data_duplicate, cmap='gray')\n",
    "plt.show()\n",
    "\n",
    "data_duplicate2 = duplicate(data_duplicate)\n",
    "plt.figure(figsize=(5,5))\n",
    "plt.imshow(data_duplicate2, cmap='gray')\n",
    "plt.show()\n",
    "\n",
    "data_duplicate3 = duplicate(data_duplicate2)\n",
    "plt.figure(figsize=(5,5))\n",
    "plt.imshow(data_duplicate3, cmap='gray')\n",
    "plt.show()"
   ]
  },
  {
   "cell_type": "markdown",
   "metadata": {
    "id": "bCQrJ_M8GUFs"
   },
   "source": [
    "They look the same, but if you look at the axes, you'll see that the pixels are just duplicated."
   ]
  },
  {
   "cell_type": "code",
   "execution_count": 26,
   "metadata": {
    "id": "uDUDChmBF71_"
   },
   "outputs": [],
   "source": [
    "# Now let's try max pooling back up\n",
    "# The input x_high_res is the original high res image, from which you can deduce the position of the maximum index\n",
    "def max_unpool(x_in, x_high_res):\n",
    "  x_out = np.zeros(( x_in.shape[0]*2, x_in.shape[1]*2 ))\n",
    "  # TO DO -- write the subsampling routine\n",
    "  # Replace this line\n",
    "  for i in range(x_in.shape[0]):\n",
    "    for j in range(x_in.shape[1]):\n",
    "      block = x_high_res[int(i * 2) : int(i * 2) + 2, int (j * 2): int(j*2)+2]\n",
    "      max_index = np.unravel_index(block.argmax(), block.shape)\n",
    "      x_out[2*i + max_index[0], 2 * j + max_index[1]] = x_in[i , j]\n",
    "\n",
    "  return x_out"
   ]
  },
  {
   "cell_type": "code",
   "execution_count": 27,
   "metadata": {
    "id": "EmjptCVNHq74"
   },
   "outputs": [
    {
     "name": "stdout",
     "output_type": "stream",
     "text": [
      "Original:\n",
      "[[6 8]\n",
      " [8 4]]\n",
      "Max unpooled:\n",
      "[[0. 0. 0. 0.]\n",
      " [6. 0. 0. 8.]\n",
      " [0. 0. 0. 4.]\n",
      " [0. 8. 0. 0.]]\n"
     ]
    }
   ],
   "source": [
    "print(\"Original:\")\n",
    "print(orig_2_2)\n",
    "print(\"Max unpooled:\")\n",
    "print(max_unpool(orig_2_2,orig_4_4))"
   ]
  },
  {
   "cell_type": "code",
   "execution_count": null,
   "metadata": {
    "id": "SSPhTuV6H4ZH"
   },
   "outputs": [],
   "source": [
    "# Let's re-upsample, sub-sampled rick\n",
    "data_max_unpool= max_unpool(data_maxpool3,data_maxpool2);\n",
    "\n",
    "plt.figure(figsize=(5,5))\n",
    "plt.imshow(data_maxpool3, cmap='gray')\n",
    "plt.show()\n",
    "\n",
    "plt.figure(figsize=(5,5))\n",
    "plt.imshow(data_max_unpool, cmap='gray')\n",
    "plt.show()\n",
    "\n",
    "data_max_unpool2 = max_unpool(data_max_unpool, data_maxpool)\n",
    "plt.figure(figsize=(5,5))\n",
    "plt.imshow(data_max_unpool2, cmap='gray')\n",
    "plt.show()\n",
    "\n",
    "data_max_unpool3 = max_unpool(data_max_unpool2, data)\n",
    "plt.figure(figsize=(5,5))\n",
    "plt.imshow(data_max_unpool3, cmap='gray')\n",
    "plt.show()"
   ]
  },
  {
   "cell_type": "markdown",
   "metadata": {
    "id": "sBx36bvbJHrK"
   },
   "source": [
    "Finally, we'll try upsampling using bilinear interpolation.  We'll treat the positions off the image as zeros by padding the original image and round fractional values upwards using np.ceil()"
   ]
  },
  {
   "cell_type": "code",
   "execution_count": 32,
   "metadata": {
    "id": "00XpfQo3Ivdf"
   },
   "outputs": [],
   "source": [
    "import numpy as np\n",
    "\n",
    "def bilinear(x_in):\n",
    "  \"\"\"\n",
    "  Performs bilinear interpolation on a 2D array.\n",
    "\n",
    "  Args:\n",
    "    x_in: A 2D numpy array.\n",
    "\n",
    "  Returns:\n",
    "    A 2D numpy array with dimensions twice the size of the input array,\n",
    "    interpolated using bilinear interpolation.\n",
    "  \"\"\"\n",
    "  x_out = np.zeros((x_in.shape[0] * 2, x_in.shape[1] * 2))\n",
    "  x_in_pad = np.zeros((x_in.shape[0] + 1, x_in.shape[1] + 1))\n",
    "  x_in_pad[0:x_in.shape[0], 0:x_in.shape[1]] = x_in\n",
    "\n",
    "  for i in range(x_out.shape[0]):\n",
    "    for j in range(x_out.shape[1]):\n",
    "      x = i / 2\n",
    "      y = j / 2\n",
    "\n",
    "      x1 = int(np.floor(x))\n",
    "      x2 = min(x1 + 1, x_in_pad.shape[0] - 1)\n",
    "\n",
    "      y1 = int(np.floor(y))\n",
    "      y2 = min(y1 + 1, x_in_pad.shape[1] - 1)\n",
    "\n",
    "      wx1 = x2 - x\n",
    "      wx2 = x - x1\n",
    "\n",
    "      wy1 = y2 - y\n",
    "      wy2 = y - y1\n",
    "\n",
    "      x_out[i, j] = (wx1 * wy1 * x_in_pad[x1, y1] + \n",
    "                     wx2 * wy1 * x_in_pad[x2, y1] + \n",
    "                     wx1 * wy2 * x_in_pad[x1, y2] + \n",
    "                     wx2 * wy2 * x_in_pad[x2, y2])\n",
    "\n",
    "  return x_out\n"
   ]
  },
  {
   "cell_type": "code",
   "execution_count": 33,
   "metadata": {
    "id": "qI5oRVCCNRob"
   },
   "outputs": [
    {
     "name": "stdout",
     "output_type": "stream",
     "text": [
      "Original:\n",
      "[[6 8]\n",
      " [8 4]]\n",
      "Bilinear:\n",
      "[[6.  7.  8.  4. ]\n",
      " [7.  6.5 6.  3. ]\n",
      " [8.  6.  4.  2. ]\n",
      " [4.  3.  2.  1. ]]\n"
     ]
    }
   ],
   "source": [
    "print(\"Original:\")\n",
    "print(orig_2_2)\n",
    "print(\"Bilinear:\")\n",
    "print(bilinear(orig_2_2))"
   ]
  },
  {
   "cell_type": "code",
   "execution_count": null,
   "metadata": {
    "id": "4m0bkhdmNRec"
   },
   "outputs": [],
   "source": [
    "# Let's re-upsample, sub-sampled rick\n",
    "data_bilinear = bilinear(data_meanpool3);\n",
    "\n",
    "plt.figure(figsize=(5,5))\n",
    "plt.imshow(data_meanpool3, cmap='gray')\n",
    "plt.show()\n",
    "\n",
    "plt.figure(figsize=(5,5))\n",
    "plt.imshow(data_bilinear, cmap='gray')\n",
    "plt.show()\n",
    "\n",
    "data_bilinear2 = bilinear(data_bilinear)\n",
    "plt.figure(figsize=(5,5))\n",
    "plt.imshow(data_bilinear2, cmap='gray')\n",
    "plt.show()\n",
    "\n",
    "data_bilinear3 = duplicate(data_bilinear2)\n",
    "plt.figure(figsize=(5,5))\n",
    "plt.imshow(data_bilinear3, cmap='gray')\n",
    "plt.show()"
   ]
  }
 ],
 "metadata": {
  "colab": {
   "authorship_tag": "ABX9TyMbSR8fzpXvO6TIQdO7bI0H",
   "include_colab_link": true,
   "provenance": []
  },
  "kernelspec": {
   "display_name": ".venv",
   "language": "python",
   "name": "python3"
  },
  "language_info": {
   "codemirror_mode": {
    "name": "ipython",
    "version": 3
   },
   "file_extension": ".py",
   "mimetype": "text/x-python",
   "name": "python",
   "nbconvert_exporter": "python",
   "pygments_lexer": "ipython3",
   "version": "3.12.3"
  }
 },
 "nbformat": 4,
 "nbformat_minor": 0
}
