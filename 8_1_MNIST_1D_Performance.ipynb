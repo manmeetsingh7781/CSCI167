{
  "cells": [
    {
      "cell_type": "markdown",
      "metadata": {
        "colab_type": "text",
        "id": "view-in-github"
      },
      "source": [
        "<a href=\"https://colab.research.google.com/github/udlbook/udlbook/blob/main/Notebooks/Chap08/8_1_MNIST_1D_Performance.ipynb\" target=\"_parent\"><img src=\"https://colab.research.google.com/assets/colab-badge.svg\" alt=\"Open In Colab\"/></a>"
      ]
    },
    {
      "cell_type": "markdown",
      "metadata": {
        "id": "L6chybAVFJW2"
      },
      "source": [
        "# **Notebook 8.1: MNIST_1D_Performance**\n",
        "\n",
        "This notebook runs a simple neural network on the MNIST1D dataset as in figure 8.2a. It uses code from https://github.com/greydanus/mnist1d to generate the data.\n",
        "\n",
        "Work through the cells below, running each cell in turn. In various places you will see the words \"TO DO\". Follow the instructions at these places and make predictions about what is going to happen or write code to complete the functions.\n",
        "\n",
        "Contact me at udlbookmail@gmail.com if you find any mistakes or have any suggestions."
      ]
    },
    {
      "cell_type": "code",
      "execution_count": 1,
      "metadata": {
        "id": "ifVjS4cTOqKz"
      },
      "outputs": [
        {
          "name": "stdout",
          "output_type": "stream",
          "text": [
            "Collecting git+https://github.com/greydanus/mnist1d\n",
            "  Cloning https://github.com/greydanus/mnist1d to c:\\users\\manme\\appdata\\local\\temp\\pip-req-build-6cj7pdry\n",
            "  Resolved https://github.com/greydanus/mnist1d to commit 68cb6b2d1d3a956cc2e9035e5a9860b66e33d642\n",
            "  Installing build dependencies: started\n",
            "  Installing build dependencies: finished with status 'done'\n",
            "  Getting requirements to build wheel: started\n",
            "  Getting requirements to build wheel: finished with status 'done'\n",
            "  Preparing metadata (pyproject.toml): started\n",
            "  Preparing metadata (pyproject.toml): finished with status 'done'\n",
            "Collecting requests (from mnist1d==0.0.2.post15)\n",
            "  Obtaining dependency information for requests from https://files.pythonhosted.org/packages/f9/9b/335f9764261e915ed497fcdeb11df5dfd6f7bf257d4a6a2a686d80da4d54/requests-2.32.3-py3-none-any.whl.metadata\n",
            "  Downloading requests-2.32.3-py3-none-any.whl.metadata (4.6 kB)\n",
            "Requirement already satisfied: numpy in g:\\classes\\csci 167 - deep learning\\programming assignemnts\\.venv\\lib\\site-packages (from mnist1d==0.0.2.post15) (2.1.0)\n",
            "Requirement already satisfied: matplotlib in g:\\classes\\csci 167 - deep learning\\programming assignemnts\\.venv\\lib\\site-packages (from mnist1d==0.0.2.post15) (3.9.2)\n",
            "Collecting scipy (from mnist1d==0.0.2.post15)\n",
            "  Obtaining dependency information for scipy from https://files.pythonhosted.org/packages/ea/c2/5ecadc5fcccefaece775feadcd795060adf5c3b29a883bff0e678cfe89af/scipy-1.14.1-cp311-cp311-win_amd64.whl.metadata\n",
            "  Downloading scipy-1.14.1-cp311-cp311-win_amd64.whl.metadata (60 kB)\n",
            "     ---------------------------------------- 0.0/60.8 kB ? eta -:--:--\n",
            "     ---------------------------------------- 60.8/60.8 kB 1.6 MB/s eta 0:00:00\n",
            "Requirement already satisfied: contourpy>=1.0.1 in g:\\classes\\csci 167 - deep learning\\programming assignemnts\\.venv\\lib\\site-packages (from matplotlib->mnist1d==0.0.2.post15) (1.3.0)\n",
            "Requirement already satisfied: cycler>=0.10 in g:\\classes\\csci 167 - deep learning\\programming assignemnts\\.venv\\lib\\site-packages (from matplotlib->mnist1d==0.0.2.post15) (0.12.1)\n",
            "Requirement already satisfied: fonttools>=4.22.0 in g:\\classes\\csci 167 - deep learning\\programming assignemnts\\.venv\\lib\\site-packages (from matplotlib->mnist1d==0.0.2.post15) (4.53.1)\n",
            "Requirement already satisfied: kiwisolver>=1.3.1 in g:\\classes\\csci 167 - deep learning\\programming assignemnts\\.venv\\lib\\site-packages (from matplotlib->mnist1d==0.0.2.post15) (1.4.5)\n",
            "Requirement already satisfied: packaging>=20.0 in g:\\classes\\csci 167 - deep learning\\programming assignemnts\\.venv\\lib\\site-packages (from matplotlib->mnist1d==0.0.2.post15) (24.1)\n",
            "Requirement already satisfied: pillow>=8 in g:\\classes\\csci 167 - deep learning\\programming assignemnts\\.venv\\lib\\site-packages (from matplotlib->mnist1d==0.0.2.post15) (10.4.0)\n",
            "Requirement already satisfied: pyparsing>=2.3.1 in g:\\classes\\csci 167 - deep learning\\programming assignemnts\\.venv\\lib\\site-packages (from matplotlib->mnist1d==0.0.2.post15) (3.1.4)\n",
            "Requirement already satisfied: python-dateutil>=2.7 in g:\\classes\\csci 167 - deep learning\\programming assignemnts\\.venv\\lib\\site-packages (from matplotlib->mnist1d==0.0.2.post15) (2.9.0.post0)\n",
            "Collecting charset-normalizer<4,>=2 (from requests->mnist1d==0.0.2.post15)\n",
            "  Obtaining dependency information for charset-normalizer<4,>=2 from https://files.pythonhosted.org/packages/57/ec/80c8d48ac8b1741d5b963797b7c0c869335619e13d4744ca2f67fc11c6fc/charset_normalizer-3.3.2-cp311-cp311-win_amd64.whl.metadata\n",
            "  Downloading charset_normalizer-3.3.2-cp311-cp311-win_amd64.whl.metadata (34 kB)\n",
            "Collecting idna<4,>=2.5 (from requests->mnist1d==0.0.2.post15)\n",
            "  Obtaining dependency information for idna<4,>=2.5 from https://files.pythonhosted.org/packages/76/c6/c88e154df9c4e1a2a66ccf0005a88dfb2650c1dffb6f5ce603dfbd452ce3/idna-3.10-py3-none-any.whl.metadata\n",
            "  Downloading idna-3.10-py3-none-any.whl.metadata (10 kB)\n",
            "Collecting urllib3<3,>=1.21.1 (from requests->mnist1d==0.0.2.post15)\n",
            "  Obtaining dependency information for urllib3<3,>=1.21.1 from https://files.pythonhosted.org/packages/ce/d9/5f4c13cecde62396b0d3fe530a50ccea91e7dfc1ccf0e09c228841bb5ba8/urllib3-2.2.3-py3-none-any.whl.metadata\n",
            "  Downloading urllib3-2.2.3-py3-none-any.whl.metadata (6.5 kB)\n",
            "Collecting certifi>=2017.4.17 (from requests->mnist1d==0.0.2.post15)\n",
            "  Obtaining dependency information for certifi>=2017.4.17 from https://files.pythonhosted.org/packages/12/90/3c9ff0512038035f59d279fddeb79f5f1eccd8859f06d6163c58798b9487/certifi-2024.8.30-py3-none-any.whl.metadata\n",
            "  Downloading certifi-2024.8.30-py3-none-any.whl.metadata (2.2 kB)\n",
            "Requirement already satisfied: six>=1.5 in g:\\classes\\csci 167 - deep learning\\programming assignemnts\\.venv\\lib\\site-packages (from python-dateutil>=2.7->matplotlib->mnist1d==0.0.2.post15) (1.16.0)\n",
            "Using cached requests-2.32.3-py3-none-any.whl (64 kB)\n",
            "Using cached scipy-1.14.1-cp311-cp311-win_amd64.whl (44.8 MB)\n",
            "Downloading certifi-2024.8.30-py3-none-any.whl (167 kB)\n",
            "   ---------------------------------------- 0.0/167.3 kB ? eta -:--:--\n",
            "   ----------------- ---------------------- 71.7/167.3 kB ? eta -:--:--\n",
            "   ---------------------------------------  163.8/167.3 kB 3.3 MB/s eta 0:00:01\n",
            "   ---------------------------------------  163.8/167.3 kB 3.3 MB/s eta 0:00:01\n",
            "   -------------------------------------- 167.3/167.3 kB 913.3 kB/s eta 0:00:00\n",
            "Using cached charset_normalizer-3.3.2-cp311-cp311-win_amd64.whl (99 kB)\n",
            "Downloading idna-3.10-py3-none-any.whl (70 kB)\n",
            "   ---------------------------------------- 0.0/70.4 kB ? eta -:--:--\n",
            "   ---------------------------------------- 70.4/70.4 kB 3.8 MB/s eta 0:00:00\n",
            "Downloading urllib3-2.2.3-py3-none-any.whl (126 kB)\n",
            "   ---------------------------------------- 0.0/126.3 kB ? eta -:--:--\n",
            "   ---------------------------------------- 126.3/126.3 kB ? eta 0:00:00\n",
            "Building wheels for collected packages: mnist1d\n",
            "  Building wheel for mnist1d (pyproject.toml): started\n",
            "  Building wheel for mnist1d (pyproject.toml): finished with status 'done'\n",
            "  Created wheel for mnist1d: filename=mnist1d-0.0.2.post15-py3-none-any.whl size=14653 sha256=784d264266d4e090f85d89d8fdee303a2aece1dbd4b77cbf9d37f06bcb983045\n",
            "  Stored in directory: C:\\Users\\manme\\AppData\\Local\\Temp\\pip-ephem-wheel-cache-kvhr9hu1\\wheels\\d6\\38\\42\\3d2112bc7d915f6195254ac85eb761d922d1b18f52817aa8e2\n",
            "Successfully built mnist1d\n",
            "Installing collected packages: urllib3, scipy, idna, charset-normalizer, certifi, requests, mnist1d\n",
            "Successfully installed certifi-2024.8.30 charset-normalizer-3.3.2 idna-3.10 mnist1d-0.0.2.post15 requests-2.32.3 scipy-1.14.1 urllib3-2.2.3\n",
            "Note: you may need to restart the kernel to use updated packages.\n"
          ]
        },
        {
          "name": "stderr",
          "output_type": "stream",
          "text": [
            "  Running command git clone --filter=blob:none --quiet https://github.com/greydanus/mnist1d 'C:\\Users\\manme\\AppData\\Local\\Temp\\pip-req-build-6cj7pdry'\n",
            "\n",
            "[notice] A new release of pip is available: 23.2.1 -> 24.2\n",
            "[notice] To update, run: python.exe -m pip install --upgrade pip\n"
          ]
        }
      ],
      "source": [
        "# Run this if you're in a Colab to install MNIST 1D repository\n",
        "%pip install git+https://github.com/greydanus/mnist1d"
      ]
    },
    {
      "cell_type": "code",
      "execution_count": 2,
      "metadata": {
        "id": "qyE7G1StPIqO"
      },
      "outputs": [],
      "source": [
        "import torch, torch.nn as nn\n",
        "from torch.utils.data import TensorDataset, DataLoader\n",
        "from torch.optim.lr_scheduler import StepLR\n",
        "import numpy as np\n",
        "import matplotlib.pyplot as plt\n",
        "import mnist1d"
      ]
    },
    {
      "cell_type": "markdown",
      "metadata": {
        "id": "F7LNq72SP6jO"
      },
      "source": [
        "Let's generate a training and test dataset using the MNIST1D code.  The dataset gets saved as a .pkl file so it doesn't have to be regenerated each time."
      ]
    },
    {
      "cell_type": "code",
      "execution_count": 3,
      "metadata": {
        "id": "YLxf7dJfPaqw"
      },
      "outputs": [
        {
          "name": "stdout",
          "output_type": "stream",
          "text": [
            "Did or could not load data from ./mnist1d_data.pkl. Rebuilding dataset...\n",
            "Examples in training set: 4000\n",
            "Examples in test set: 1000\n",
            "Length of each example: 40\n"
          ]
        }
      ],
      "source": [
        "args = mnist1d.data.get_dataset_args()\n",
        "data = mnist1d.data.get_dataset(args, path='./mnist1d_data.pkl', download=False, regenerate=False)\n",
        "\n",
        "# The training and test input and outputs are in\n",
        "# data['x'], data['y'], data['x_test'], and data['y_test']\n",
        "print(\"Examples in training set: {}\".format(len(data['y'])))\n",
        "print(\"Examples in test set: {}\".format(len(data['y_test'])))\n",
        "print(\"Length of each example: {}\".format(data['x'].shape[-1]))"
      ]
    },
    {
      "cell_type": "code",
      "execution_count": 11,
      "metadata": {
        "id": "FxaB5vc0uevl"
      },
      "outputs": [
        {
          "name": "stdout",
          "output_type": "stream",
          "text": [
            "Initializing layer\n",
            "Initializing layer\n",
            "Initializing layer\n",
            "Initializing layer\n",
            "Initializing layer\n",
            "Initializing layer\n"
          ]
        },
        {
          "data": {
            "text/plain": [
              "Sequential(\n",
              "  (0): Linear(in_features=40, out_features=100, bias=True)\n",
              "  (1): ReLU()\n",
              "  (2): Linear(in_features=100, out_features=100, bias=True)\n",
              "  (3): ReLU()\n",
              "  (4): Linear(in_features=100, out_features=10, bias=True)\n",
              ")"
            ]
          },
          "execution_count": 11,
          "metadata": {},
          "output_type": "execute_result"
        }
      ],
      "source": [
        "D_i = 40    # Input dimensions\n",
        "D_k = 100   # Hidden dimensions\n",
        "D_o = 10    # Output dimensions\n",
        "# TO DO:\n",
        "# Define a model with two hidden layers of size 100\n",
        "# And ReLU activations between them\n",
        "# Replace this line (see Figure 7.8 of book for help):\n",
        "model = torch.nn.Sequential(\n",
        "  nn.Linear(D_i, D_k), # input layer of 40 inputs mapped to 100 hidden units \n",
        "  nn.ReLU(),          # activation\n",
        "  nn.Linear(D_k, D_k),  # hidden layer takes 100 inputs and creates 100 outputs\n",
        "  nn.ReLU(),          # activation of previous layer\n",
        "  nn.Linear(D_k, D_o)   # output layer takes 100 layers and creates 10 layer output\n",
        ");\n",
        "\n",
        "\n",
        "def weights_init(layer_in):\n",
        "  # TO DO:\n",
        "  # Initialize the parameters with He initialization\n",
        "  # Replace this line (see figure 7.8 of book for help)\n",
        "  print(\"Initializing layer\")\n",
        "  if isinstance(layer_in, nn.Linear):\n",
        "    nn.init.kaiming_normal_(layer_in.weight)\n",
        "    layer_in.bias.data.fill_(0.0)\n",
        "\n",
        "\n",
        "# Call the function you just defined\n",
        "model.apply(weights_init)\n"
      ]
    },
    {
      "cell_type": "code",
      "execution_count": 15,
      "metadata": {
        "id": "_rX6N3VyyQTY"
      },
      "outputs": [
        {
          "name": "stdout",
          "output_type": "stream",
          "text": [
            "Initializing layer\n",
            "Initializing layer\n",
            "Initializing layer\n",
            "Initializing layer\n",
            "Initializing layer\n",
            "Initializing layer\n",
            "Epoch     0, train loss 1.549718, train error 60.05,  test loss 1.607521, test error 65.80\n",
            "Epoch     1, train loss 1.231937, train error 44.30,  test loss 1.367921, test error 55.00\n",
            "Epoch     2, train loss 1.035164, train error 37.60,  test loss 1.263790, test error 50.40\n",
            "Epoch     3, train loss 0.922795, train error 34.88,  test loss 1.179530, test error 46.60\n",
            "Epoch     4, train loss 0.800485, train error 29.57,  test loss 1.110670, test error 43.70\n",
            "Epoch     5, train loss 0.706014, train error 26.07,  test loss 1.169188, test error 43.60\n",
            "Epoch     6, train loss 0.596353, train error 21.50,  test loss 1.130014, test error 42.80\n",
            "Epoch     7, train loss 0.570152, train error 20.53,  test loss 1.175048, test error 42.80\n",
            "Epoch     8, train loss 0.490286, train error 17.85,  test loss 1.106928, test error 38.70\n",
            "Epoch     9, train loss 0.442108, train error 15.60,  test loss 1.251864, test error 39.00\n",
            "Epoch    10, train loss 0.244884, train error 6.53,  test loss 1.051948, test error 36.50\n",
            "Epoch    11, train loss 0.191552, train error 4.28,  test loss 1.107884, test error 36.10\n",
            "Epoch    12, train loss 0.159287, train error 3.40,  test loss 1.145371, test error 35.50\n",
            "Epoch    13, train loss 0.127490, train error 1.85,  test loss 1.144169, test error 35.20\n",
            "Epoch    14, train loss 0.112450, train error 1.62,  test loss 1.175644, test error 34.90\n",
            "Epoch    15, train loss 0.096895, train error 1.35,  test loss 1.264547, test error 35.20\n",
            "Epoch    16, train loss 0.080663, train error 0.78,  test loss 1.257678, test error 35.00\n",
            "Epoch    17, train loss 0.070306, train error 0.68,  test loss 1.324108, test error 35.80\n",
            "Epoch    18, train loss 0.055930, train error 0.28,  test loss 1.323514, test error 34.50\n",
            "Epoch    19, train loss 0.044027, train error 0.05,  test loss 1.396299, test error 34.80\n",
            "Epoch    20, train loss 0.036110, train error 0.03,  test loss 1.400361, test error 34.30\n",
            "Epoch    21, train loss 0.033110, train error 0.00,  test loss 1.417225, test error 35.50\n",
            "Epoch    22, train loss 0.030985, train error 0.00,  test loss 1.432364, test error 34.90\n",
            "Epoch    23, train loss 0.029020, train error 0.00,  test loss 1.447940, test error 35.10\n",
            "Epoch    24, train loss 0.027178, train error 0.00,  test loss 1.463526, test error 35.10\n",
            "Epoch    25, train loss 0.026047, train error 0.00,  test loss 1.478643, test error 35.10\n",
            "Epoch    26, train loss 0.024005, train error 0.00,  test loss 1.492410, test error 34.50\n",
            "Epoch    27, train loss 0.022852, train error 0.00,  test loss 1.495997, test error 34.90\n",
            "Epoch    28, train loss 0.021733, train error 0.00,  test loss 1.513257, test error 34.70\n",
            "Epoch    29, train loss 0.020557, train error 0.00,  test loss 1.536791, test error 34.70\n",
            "Epoch    30, train loss 0.019890, train error 0.00,  test loss 1.535293, test error 35.40\n",
            "Epoch    31, train loss 0.019368, train error 0.00,  test loss 1.543121, test error 34.90\n",
            "Epoch    32, train loss 0.018974, train error 0.00,  test loss 1.548162, test error 35.00\n",
            "Epoch    33, train loss 0.018581, train error 0.00,  test loss 1.552656, test error 35.00\n",
            "Epoch    34, train loss 0.018131, train error 0.00,  test loss 1.558919, test error 35.40\n",
            "Epoch    35, train loss 0.017745, train error 0.00,  test loss 1.562921, test error 35.20\n",
            "Epoch    36, train loss 0.017387, train error 0.00,  test loss 1.568425, test error 35.20\n",
            "Epoch    37, train loss 0.017020, train error 0.00,  test loss 1.575309, test error 35.10\n",
            "Epoch    38, train loss 0.016791, train error 0.00,  test loss 1.579406, test error 35.20\n",
            "Epoch    39, train loss 0.016364, train error 0.00,  test loss 1.584276, test error 35.10\n",
            "Epoch    40, train loss 0.016169, train error 0.00,  test loss 1.587597, test error 35.20\n",
            "Epoch    41, train loss 0.016010, train error 0.00,  test loss 1.589327, test error 35.10\n",
            "Epoch    42, train loss 0.015852, train error 0.00,  test loss 1.592175, test error 35.30\n",
            "Epoch    43, train loss 0.015703, train error 0.00,  test loss 1.595469, test error 35.00\n",
            "Epoch    44, train loss 0.015557, train error 0.00,  test loss 1.597487, test error 35.20\n",
            "Epoch    45, train loss 0.015409, train error 0.00,  test loss 1.600035, test error 35.30\n",
            "Epoch    46, train loss 0.015264, train error 0.00,  test loss 1.601456, test error 35.20\n",
            "Epoch    47, train loss 0.015124, train error 0.00,  test loss 1.604128, test error 34.90\n",
            "Epoch    48, train loss 0.014994, train error 0.00,  test loss 1.608322, test error 35.20\n",
            "Epoch    49, train loss 0.014851, train error 0.00,  test loss 1.608378, test error 35.20\n"
          ]
        }
      ],
      "source": [
        "# choose cross entropy loss function (equation 5.24)\n",
        "loss_function = torch.nn.CrossEntropyLoss()\n",
        "# construct SGD optimizer and initialize learning rate and momentum\n",
        "optimizer = torch.optim.SGD(model.parameters(), lr = 0.1, momentum=0.9)\n",
        "# object that decreases learning rate by half every 10 epochs\n",
        "scheduler = StepLR(optimizer, step_size=10, gamma=0.5)\n",
        "x_train = torch.tensor(data['x'].astype('float32'))\n",
        "y_train = torch.tensor(data['y'].transpose().astype('int64'))\n",
        "x_test= torch.tensor(data['x_test'].astype('float32'))\n",
        "y_test = torch.tensor(data['y_test'].astype('int64'))\n",
        "# load the data into a class that creates the batches\n",
        "data_loader = DataLoader(TensorDataset(x_train,y_train), batch_size=100, shuffle=True, worker_init_fn=np.random.seed(1))\n",
        "\n",
        "# Initialize model weights\n",
        "model.apply(weights_init)\n",
        "\n",
        "# loop over the dataset n_epoch times\n",
        "n_epoch = 50\n",
        "# store the loss and the % correct at each epoch\n",
        "losses_train = np.zeros((n_epoch))\n",
        "errors_train = np.zeros((n_epoch))\n",
        "losses_test = np.zeros((n_epoch))\n",
        "errors_test = np.zeros((n_epoch))\n",
        "\n",
        "for epoch in range(n_epoch):\n",
        "  # loop over batches\n",
        "  for i, batch in enumerate(data_loader):\n",
        "    # retrieve inputs and labels for this batch\n",
        "    x_batch, y_batch = batch\n",
        "    # zero the parameter gradients\n",
        "    optimizer.zero_grad()\n",
        "    # forward pass -- calculate model output\n",
        "    pred = model(x_batch)\n",
        "    # compute the loss\n",
        "    loss = loss_function(pred, y_batch)\n",
        "    # backward pass\n",
        "    loss.backward()\n",
        "    # SGD update\n",
        "    optimizer.step()\n",
        "\n",
        "  # Run whole dataset to get statistics -- normally wouldn't do this\n",
        "  pred_train = model(x_train)\n",
        "  pred_test = model(x_test)\n",
        "  _, predicted_train_class = torch.max(pred_train.data, 1)\n",
        "  _, predicted_test_class = torch.max(pred_test.data, 1)\n",
        "  errors_train[epoch] = 100 - 100 * (predicted_train_class == y_train).float().sum() / len(y_train)\n",
        "  errors_test[epoch]= 100 - 100 * (predicted_test_class == y_test).float().sum() / len(y_test)\n",
        "  losses_train[epoch] = loss_function(pred_train, y_train).item()\n",
        "  losses_test[epoch]= loss_function(pred_test, y_test).item()\n",
        "  print(f'Epoch {epoch:5d}, train loss {losses_train[epoch]:.6f}, train error {errors_train[epoch]:3.2f},  test loss {losses_test[epoch]:.6f}, test error {errors_test[epoch]:3.2f}')\n",
        "\n",
        "  # tell scheduler to consider updating learning rate\n",
        "  scheduler.step()"
      ]
    },
    {
      "cell_type": "code",
      "execution_count": 16,
      "metadata": {
        "id": "yI-l6kA_EH9G"
      },
      "outputs": [
        {
          "data": {
            "image/png": "[encoded data removed]",
            "text/plain": [
              "<Figure size 640x480 with 1 Axes>"
            ]
          },
          "metadata": {},
          "output_type": "display_data"
        },
        {
          "data": {
            "image/png": "[encoded data removed]",
            "text/plain": [
              "<Figure size 640x480 with 1 Axes>"
            ]
          },
          "metadata": {},
          "output_type": "display_data"
        }
      ],
      "source": [
        "# Plot the results\n",
        "fig, ax = plt.subplots()\n",
        "ax.plot(errors_train,'r-',label='train')\n",
        "ax.plot(errors_test,'b-',label='test')\n",
        "ax.set_ylim(0,100); ax.set_xlim(0,n_epoch)\n",
        "ax.set_xlabel('Epoch'); ax.set_ylabel('Error')\n",
        "ax.set_title('TrainError %3.2f, Test Error %3.2f'%(errors_train[-1],errors_test[-1]))\n",
        "ax.legend()\n",
        "plt.show()\n",
        "\n",
        "# Plot the results\n",
        "fig, ax = plt.subplots()\n",
        "ax.plot(losses_train,'r-',label='train')\n",
        "ax.plot(losses_test,'b-',label='test')\n",
        "ax.set_xlim(0,n_epoch)\n",
        "ax.set_xlabel('Epoch'); ax.set_ylabel('Loss')\n",
        "ax.set_title('Train loss %3.2f, Test loss %3.2f'%(losses_train[-1],losses_test[-1]))\n",
        "ax.legend()\n",
        "plt.show()"
      ]
    },
    {
      "cell_type": "markdown",
      "metadata": {
        "id": "q-yT6re6GZS4"
      },
      "source": [
        "**TO DO**\n",
        "\n",
        "Play with the model -- try changing the number of layers, hidden units, learning rate, batch size, momentum or anything else you like.  See if you can improve the test results.\n",
        "\n",
        "Is it a good idea to optimize the hyperparameters in this way?  Will the final result be a good estimate of the true test performance?"
      ]
    },
    {
      "cell_type": "markdown",
      "metadata": {},
      "source": [
        "After adding 1 more Hidden Layer of 100x100, my test loss rate went to 0.345.\n",
        "I also changed the learning rate from 0.05 to 0.1 and seems like my model's loss is 0.01 and train error is 1.61 from 1.75 which is also lower."
      ]
    }
  ],
  "metadata": {
    "accelerator": "GPU",
    "colab": {
      "authorship_tag": "ABX9TyOuKMUcKfOIhIL2qTX9jJCy",
      "gpuType": "T4",
      "include_colab_link": true,
      "provenance": []
    },
    "kernelspec": {
      "display_name": ".venv",
      "language": "python",
      "name": "python3"
    },
    "language_info": {
      "codemirror_mode": {
        "name": "ipython",
        "version": 3
      },
      "file_extension": ".py",
      "mimetype": "text/x-python",
      "name": "python",
      "nbconvert_exporter": "python",
      "pygments_lexer": "ipython3",
      "version": "3.11.4"
    }
  },
  "nbformat": 4,
  "nbformat_minor": 0
}
