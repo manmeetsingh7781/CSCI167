{
  "nbformat": 4,
  "nbformat_minor": 0,
  "metadata": {
    "colab": {
      "provenance": []
    },
    "kernelspec": {
      "name": "python3",
      "display_name": "Python 3"
    },
    "language_info": {
      "name": "python"
    }
  },
  "cells": [
    {
      "cell_type": "markdown",
      "metadata": {
        "id": "view-in-github"
      },
      "source": [
        "<a href=\"https://colab.research.google.com/github/udlbook/udlbook/blob/main/Notebooks/Chap12/12_1_Self_Attention.ipynb\" target=\"_parent\"><img src=\"https://colab.research.google.com/assets/colab-badge.svg\" alt=\"Open In Colab\"/></a>"
      ]
    },
    {
      "cell_type": "markdown",
      "source": [
        "# **Notebook 12.1: Self Attention**\n",
        "\n",
        "This notebook builds a self-attention mechanism from scratch, as discussed in section 12.2 of the book.\n",
        "\n",
        "Work through the cells below, running each cell in turn. In various places you will see the words \"TO DO\". Follow the instructions at these places and make predictions about what is going to happen or write code to complete the functions.\n",
        "\n",
        "Contact me at udlbookmail@gmail.com if you find any mistakes or have any suggestions.\n",
        "\n"
      ],
      "metadata": {
        "id": "t9vk9Elugvmi"
      }
    },
    {
      "cell_type": "code",
      "source": [
        "import numpy as np\n",
        "import matplotlib.pyplot as plt"
      ],
      "metadata": {
        "id": "OLComQyvCIJ7"
      },
      "execution_count": 21,
      "outputs": []
    },
    {
      "cell_type": "markdown",
      "source": [
        "The self-attention mechanism maps $N$ inputs $\\mathbf{x}_{n}\\in\\mathbb{R}^{D}$ and returns $N$ outputs $\\mathbf{x}'_{n}\\in \\mathbb{R}^{D}$.  \n",
        "\n"
      ],
      "metadata": {
        "id": "9OJkkoNqCVK2"
      }
    },
    {
      "cell_type": "code",
      "source": [
        "# Set seed so we get the same random numbers\n",
        "np.random.seed(3)\n",
        "# Number of inputs\n",
        "N = 3\n",
        "# Number of dimensions of each input\n",
        "D = 4\n",
        "# Create an empty list\n",
        "all_x = []\n",
        "# Create elements x_n and append to list\n",
        "for n in range(N):\n",
        "  all_x.append(np.random.normal(size=(D,1)))\n",
        "# Print out the list\n",
        "print(all_x)"
      ],
      "metadata": {
        "id": "oAygJwLiCSri",
        "colab": {
          "base_uri": "https://localhost:8080/"
        },
        "outputId": "e1e1750d-be80-431d-f6ca-a84f8174daa4"
      },
      "execution_count": 22,
      "outputs": [
        {
          "output_type": "stream",
          "name": "stdout",
          "text": [
            "[array([[ 1.78862847],\n",
            "       [ 0.43650985],\n",
            "       [ 0.09649747],\n",
            "       [-1.8634927 ]]), array([[-0.2773882 ],\n",
            "       [-0.35475898],\n",
            "       [-0.08274148],\n",
            "       [-0.62700068]]), array([[-0.04381817],\n",
            "       [-0.47721803],\n",
            "       [-1.31386475],\n",
            "       [ 0.88462238]])]\n"
          ]
        }
      ]
    },
    {
      "cell_type": "markdown",
      "source": [
        "We'll also need the weights and biases for the keys, queries, and values (equations 12.2 and 12.4)"
      ],
      "metadata": {
        "id": "W2iHFbtKMaDp"
      }
    },
    {
      "cell_type": "code",
      "source": [
        "# Set seed so we get the same random numbers\n",
        "np.random.seed(0)\n",
        "\n",
        "# Choose random values for the parameters\n",
        "omega_q = np.random.normal(size=(D,D))\n",
        "omega_k = np.random.normal(size=(D,D))\n",
        "omega_v = np.random.normal(size=(D,D))\n",
        "beta_q = np.random.normal(size=(D,1))\n",
        "beta_k = np.random.normal(size=(D,1))\n",
        "beta_v = np.random.normal(size=(D,1))"
      ],
      "metadata": {
        "id": "79TSK7oLMobe"
      },
      "execution_count": 23,
      "outputs": []
    },
    {
      "cell_type": "markdown",
      "source": [
        "Now let's compute the queries, keys, and values for each input"
      ],
      "metadata": {
        "id": "VxaKQtP3Ng6R"
      }
    },
    {
      "cell_type": "code",
      "source": [
        "# Make three lists to store queries, keys, and values\n",
        "all_queries = []\n",
        "all_keys = []\n",
        "all_values = []\n",
        "\n",
        "# For every input\n",
        "for x in all_x:\n",
        "  # TODO -- compute the keys, queries and values.\n",
        "\n",
        "  # Replace these three lines\n",
        "\n",
        "  query = np.dot(omega_q, x) + beta_q\n",
        "  key = np.dot(omega_k, x) + beta_k\n",
        "  value = np.dot(omega_v, x) + beta_v\n",
        "\n",
        "  all_queries.append(query)\n",
        "  all_keys.append(key)\n",
        "  all_values.append(value)"
      ],
      "metadata": {
        "id": "TwDK2tfdNmw9"
      },
      "execution_count": 24,
      "outputs": []
    },
    {
      "cell_type": "markdown",
      "source": [
        "We'll need a softmax function (equation 12.5) -- here, it will take a list of arbitrary numbers and return a list where the elements are non-negative and sum to one\n"
      ],
      "metadata": {
        "id": "Se7DK6PGPSUk"
      }
    },
    {
      "cell_type": "code",
      "source": [
        "def softmax(items_in):\n",
        "  # Convert the list of arrays to a single NumPy array\n",
        "  items_in = np.array(items_in)\n",
        "\n",
        "  # TODO Compute the elements of items_out\n",
        "  # Replace this line\n",
        "  items_out = items_in.copy()\n",
        "  # COMPUTE SOFTMAX\n",
        "  items_out = np.exp(items_out, out=items_out) #Now it shoudl work because items_out is a numpy array\n",
        "\n",
        "  items_out /= np.sum(items_out)\n",
        "\n",
        "  return items_out"
      ],
      "metadata": {
        "id": "u93LIcE5PoiM"
      },
      "execution_count": 25,
      "outputs": []
    },
    {
      "cell_type": "markdown",
      "source": [
        "Now compute the self attention values:"
      ],
      "metadata": {
        "id": "8aJVhbKDW7lm"
      }
    },
    {
      "cell_type": "code",
      "source": [
        "# Assuming all_queries, all_keys, all_values, N, D are defined\n",
        "\n",
        "# Create empty list for output\n",
        "all_x_prime = []\n",
        "\n",
        "# For each output\n",
        "for n in range(N):\n",
        "    # Create list for dot products of query N with all keys\n",
        "    all_km_qn = []\n",
        "    # Compute the dot products\n",
        "    for key in all_keys:\n",
        "        # Compute the appropriate dot product using the current query\n",
        "        dot_product = np.dot(all_queries[n].T, key)\n",
        "        # Store dot product\n",
        "        all_km_qn.append(dot_product)\n",
        "\n",
        "    # Compute dot product\n",
        "    attention = softmax(all_km_qn)\n",
        "\n",
        "    # Reshape attention to a 1D array for element-wise multiplication\n",
        "    attention = attention.reshape(-1)\n",
        "\n",
        "    # Print result (should be positive sum to one)\n",
        "    print(\"Attentions for output \", n)\n",
        "    print(attention)\n",
        "\n",
        "    # Compute a weighted sum of all of the values according to the attention\n",
        "    x_prime = np.zeros((D, 1))\n",
        "    for i in range(len(all_values)):\n",
        "        x_prime += attention[i] * all_values[i]\n",
        "\n",
        "    all_x_prime.append(x_prime)\n",
        "\n",
        "# Print out true values to check you have it correct\n",
        "print(\"x_prime_0_calculated:\", all_x_prime[0].transpose())\n",
        "print(\"x_prime_0_true: [[ 0.94744244 -0.24348429 -0.91310441 -0.44522983]]\")\n",
        "print(\"x_prime_1_calculated:\", all_x_prime[1].transpose())\n",
        "print(\"x_prime_1_true: [[ 1.64201168 -0.08470004  4.02764044  2.18690791]]\")\n",
        "print(\"x_prime_2_calculated:\", all_x_prime[2].transpose())\n",
        "print(\"x_prime_2_true: [[ 1.61949281 -0.06641533  3.96863308  2.15858316]]\")"
      ],
      "metadata": {
        "id": "yimz-5nCW6vQ",
        "colab": {
          "base_uri": "https://localhost:8080/"
        },
        "outputId": "ff493967-bf4f-4d90-e7a1-b6cab5466440"
      },
      "execution_count": 26,
      "outputs": [
        {
          "output_type": "stream",
          "name": "stdout",
          "text": [
            "Attentions for output  0\n",
            "[1.24326146e-13 9.98281489e-01 1.71851130e-03]\n",
            "Attentions for output  1\n",
            "[2.79525306e-12 5.85506360e-03 9.94144936e-01]\n",
            "Attentions for output  2\n",
            "[0.00505708 0.00654776 0.98839516]\n",
            "x_prime_0_calculated: [[ 0.94744244 -0.24348429 -0.91310441 -0.44522983]]\n",
            "x_prime_0_true: [[ 0.94744244 -0.24348429 -0.91310441 -0.44522983]]\n",
            "x_prime_1_calculated: [[ 1.64201168 -0.08470004  4.02764044  2.18690791]]\n",
            "x_prime_1_true: [[ 1.64201168 -0.08470004  4.02764044  2.18690791]]\n",
            "x_prime_2_calculated: [[ 1.61949281 -0.06641533  3.96863308  2.15858316]]\n",
            "x_prime_2_true: [[ 1.61949281 -0.06641533  3.96863308  2.15858316]]\n"
          ]
        }
      ]
    },
    {
      "cell_type": "markdown",
      "source": [
        "Now let's compute the same thing, but using matrix calculations.  We'll store the $N$ inputs $\\mathbf{x}_{n}\\in\\mathbb{R}^{D}$ in the columns of a $D\\times N$ matrix, using equations 12.6 and 12.7/8.\n",
        "\n",
        "Note:  The book uses column vectors (for compatibility with the rest of the text), but in the wider literature it is more normal to store the inputs in the rows of a matrix;  in this case, the computation is the same, but all the matrices are transposed and the operations proceed in the reverse order."
      ],
      "metadata": {
        "id": "PJ2vCQ_7C38K"
      }
    },
    {
      "cell_type": "code",
      "source": [
        "# Define softmax operation that works independently on each column\n",
        "def softmax_cols(data_in):\n",
        "  # Exponentiate all of the values\n",
        "  exp_values = np.exp(data_in) ;\n",
        "  # Sum over columns\n",
        "  denom = np.sum(exp_values, axis = 0);\n",
        "  # Replicate denominator to N rows\n",
        "  denom = np.matmul(np.ones((data_in.shape[0],1)), denom[np.newaxis,:])\n",
        "  # Compute softmax\n",
        "  softmax = exp_values / denom\n",
        "  # return the answer\n",
        "  return softmax"
      ],
      "metadata": {
        "id": "obaQBdUAMXXv"
      },
      "execution_count": 27,
      "outputs": []
    },
    {
      "cell_type": "code",
      "source": [
        "def self_attention(X, omega_v, omega_q, omega_k, beta_v, beta_q, beta_k):\n",
        "    \"\"\"\n",
        "    Computes self-attention in matrix form.\n",
        "\n",
        "    Args:\n",
        "        X: Input matrix of shape (D, N) where D is the feature dimension and N is the number of inputs.\n",
        "        omega_v, omega_q, omega_k: Weight matrices for values, queries, and keys, respectively.\n",
        "        beta_v, beta_q, beta_k: Bias vectors for values, queries, and keys, respectively.\n",
        "\n",
        "    Returns:\n",
        "        X_prime: Output matrix of shape (D, N) after applying self-attention.\n",
        "    \"\"\"\n",
        "\n",
        "    # 1. Compute queries, keys, and values\n",
        "    Queries = omega_q @ X + beta_q  # (D, N)\n",
        "    Keys = omega_k @ X + beta_k      # (D, N)\n",
        "    Values = omega_v @ X + beta_v    # (D, N)\n",
        "\n",
        "    # 2. Compute dot products (unnormalized attention weights)\n",
        "    # Note: Transposing Keys to (N, D) for matrix multiplication\n",
        "    # Resulting shape: (N, N) - attention weights for each input with all other inputs\n",
        "    Unnormalized_attention_weights = Queries.T @ Keys\n",
        "\n",
        "    # 3. Apply softmax to calculate attentions (row-wise)\n",
        "    # Dividing each row by its sum to normalize\n",
        "    Attentions = np.apply_along_axis(softmax, 1, Unnormalized_attention_weights)\n",
        "\n",
        "    # 4. Weight values by attentions to get the final output\n",
        "    # Resulting shape: (D, N)\n",
        "    X_prime = Values @ Attentions.T\n",
        "\n",
        "    return X_prime"
      ],
      "metadata": {
        "id": "gb2WvQ3SiH8r"
      },
      "execution_count": 28,
      "outputs": []
    },
    {
      "cell_type": "code",
      "source": [
        "# Copy data into matrix\n",
        "X = np.zeros((D, N))\n",
        "X[:,0] = np.squeeze(all_x[0])\n",
        "X[:,1] = np.squeeze(all_x[1])\n",
        "X[:,2] = np.squeeze(all_x[2])\n",
        "\n",
        "# Run the self attention mechanism\n",
        "X_prime = self_attention(X,omega_v, omega_q, omega_k, beta_v, beta_q, beta_k)\n",
        "\n",
        "# Print out the results\n",
        "print(X_prime)"
      ],
      "metadata": {
        "id": "MUOJbgJskUpl",
        "colab": {
          "base_uri": "https://localhost:8080/"
        },
        "outputId": "7856a721-afa1-4cb8-8775-c047219cb5a2"
      },
      "execution_count": 29,
      "outputs": [
        {
          "output_type": "stream",
          "name": "stdout",
          "text": [
            "[[ 0.94744244  1.64201168  1.61949281]\n",
            " [-0.24348429 -0.08470004 -0.06641533]\n",
            " [-0.91310441  4.02764044  3.96863308]\n",
            " [-0.44522983  2.18690791  2.15858316]]\n"
          ]
        }
      ]
    },
    {
      "cell_type": "markdown",
      "source": [
        "If you did this correctly, the values should be the same as above.\n",
        "\n",
        "TODO:  \n",
        "\n",
        "Print out the attention matrix\n",
        "You will see that the values are quite extreme (one is very close to one and the others are very close to zero.  Now we'll fix this problem by using scaled dot-product attention."
      ],
      "metadata": {
        "id": "as_lRKQFpvz0"
      }
    },
    {
      "cell_type": "code",
      "source": [
        "def scaled_dot_product_self_attention(X, omega_v, omega_q, omega_k, beta_v, beta_q, beta_k):\n",
        "    \"\"\"\n",
        "    Computes scaled dot-product self-attention.\n",
        "\n",
        "    Args:\n",
        "        X: Input matrix of shape (D, N) where D is the feature dimension and N is the number of inputs.\n",
        "        omega_v, omega_q, omega_k: Weight matrices for values, queries, and keys, respectively.\n",
        "        beta_v, beta_q, beta_k: Bias vectors for values, queries, and keys, respectively.\n",
        "\n",
        "    Returns:\n",
        "        X_prime: Output matrix of shape (D, N) after applying scaled dot-product self-attention.\n",
        "    \"\"\"\n",
        "\n",
        "    # 1. Compute queries, keys, and values\n",
        "    Queries = omega_q @ X + beta_q  # (D, N)\n",
        "    Keys = omega_k @ X + beta_k      # (D, N)\n",
        "    Values = omega_v @ X + beta_v    # (D, N)\n",
        "\n",
        "    # 2. Compute dot products (unnormalized attention weights)\n",
        "    Unnormalized_attention_weights = Queries.T @ Keys  # (N, N)\n",
        "\n",
        "    # 3. Scale the dot products by the square root of the key dimension (equation 12.9)\n",
        "    d_k = Keys.shape[0]  # Dimension of the keys\n",
        "    Scaled_attention_weights = Unnormalized_attention_weights / np.sqrt(d_k)\n",
        "\n",
        "    # 4. Apply softmax to calculate attentions (row-wise)\n",
        "    Attentions = np.apply_along_axis(softmax, 1, Scaled_attention_weights)\n",
        "\n",
        "    # 5. Weight values by attentions to get the final output\n",
        "    X_prime = Values @ Attentions.T  # (D, N)\n",
        "\n",
        "    return X_prime"
      ],
      "metadata": {
        "id": "kLU7PUnnqvIh"
      },
      "execution_count": 30,
      "outputs": []
    },
    {
      "cell_type": "code",
      "source": [
        "# Run the self attention mechanism\n",
        "X_prime = scaled_dot_product_self_attention(X,omega_v, omega_q, omega_k, beta_v, beta_q, beta_k)\n",
        "\n",
        "# Print out the results\n",
        "print(X_prime)"
      ],
      "metadata": {
        "id": "n18e3XNzmVgL",
        "colab": {
          "base_uri": "https://localhost:8080/"
        },
        "outputId": "30167f5c-f632-49f2-a9b1-07e08e6472d9"
      },
      "execution_count": 31,
      "outputs": [
        {
          "output_type": "stream",
          "name": "stdout",
          "text": [
            "[[ 0.97411966  1.59622051  1.32638014]\n",
            " [-0.23738409 -0.09516106  0.13062402]\n",
            " [-0.72333202  3.70194096  3.02371664]\n",
            " [-0.34413007  2.01339538  1.6902419 ]]\n"
          ]
        }
      ]
    }
  ]
}